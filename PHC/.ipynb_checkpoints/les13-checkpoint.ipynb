{
 "cells": [
  {
   "cell_type": "code",
   "execution_count": 92,
   "metadata": {},
   "outputs": [
    {
     "data": {
      "text/html": [
       "<div>\n",
       "<style scoped>\n",
       "    .dataframe tbody tr th:only-of-type {\n",
       "        vertical-align: middle;\n",
       "    }\n",
       "\n",
       "    .dataframe tbody tr th {\n",
       "        vertical-align: top;\n",
       "    }\n",
       "\n",
       "    .dataframe thead th {\n",
       "        text-align: right;\n",
       "    }\n",
       "</style>\n",
       "<table border=\"1\" class=\"dataframe\">\n",
       "  <thead>\n",
       "    <tr style=\"text-align: right;\">\n",
       "      <th></th>\n",
       "      <th>API</th>\n",
       "      <th>Year</th>\n",
       "      <th>Month</th>\n",
       "      <th>Liquid</th>\n",
       "      <th>Gas</th>\n",
       "      <th>RatioGasOil</th>\n",
       "      <th>Water</th>\n",
       "      <th>PercentWater</th>\n",
       "      <th>DaysOn</th>\n",
       "      <th>_LastUpdate</th>\n",
       "    </tr>\n",
       "  </thead>\n",
       "  <tbody>\n",
       "    <tr>\n",
       "      <th>0</th>\n",
       "      <td>5005072170100</td>\n",
       "      <td>2014</td>\n",
       "      <td>11</td>\n",
       "      <td>9783</td>\n",
       "      <td>11470</td>\n",
       "      <td>1.172442</td>\n",
       "      <td>10558</td>\n",
       "      <td>1.079219</td>\n",
       "      <td>14</td>\n",
       "      <td>2016-04-06 17:20:05.757</td>\n",
       "    </tr>\n",
       "    <tr>\n",
       "      <th>1</th>\n",
       "      <td>5005072170100</td>\n",
       "      <td>2014</td>\n",
       "      <td>12</td>\n",
       "      <td>24206</td>\n",
       "      <td>26476</td>\n",
       "      <td>1.093778</td>\n",
       "      <td>5719</td>\n",
       "      <td>0.236264</td>\n",
       "      <td>31</td>\n",
       "      <td>2016-04-06 17:20:05.757</td>\n",
       "    </tr>\n",
       "    <tr>\n",
       "      <th>2</th>\n",
       "      <td>5005072170100</td>\n",
       "      <td>2015</td>\n",
       "      <td>1</td>\n",
       "      <td>20449</td>\n",
       "      <td>26381</td>\n",
       "      <td>1.290088</td>\n",
       "      <td>2196</td>\n",
       "      <td>0.107389</td>\n",
       "      <td>31</td>\n",
       "      <td>2016-04-06 17:20:05.757</td>\n",
       "    </tr>\n",
       "    <tr>\n",
       "      <th>3</th>\n",
       "      <td>5005072170100</td>\n",
       "      <td>2015</td>\n",
       "      <td>2</td>\n",
       "      <td>6820</td>\n",
       "      <td>10390</td>\n",
       "      <td>1.523460</td>\n",
       "      <td>583</td>\n",
       "      <td>0.085484</td>\n",
       "      <td>28</td>\n",
       "      <td>2016-04-06 17:20:05.757</td>\n",
       "    </tr>\n",
       "    <tr>\n",
       "      <th>4</th>\n",
       "      <td>5005072170100</td>\n",
       "      <td>2015</td>\n",
       "      <td>3</td>\n",
       "      <td>7349</td>\n",
       "      <td>7005</td>\n",
       "      <td>0.953191</td>\n",
       "      <td>122</td>\n",
       "      <td>0.016601</td>\n",
       "      <td>13</td>\n",
       "      <td>2016-06-16 14:07:33.203</td>\n",
       "    </tr>\n",
       "  </tbody>\n",
       "</table>\n",
       "</div>"
      ],
      "text/plain": [
       "             API  Year  Month  Liquid    Gas  RatioGasOil  Water  \\\n",
       "0  5005072170100  2014     11    9783  11470     1.172442  10558   \n",
       "1  5005072170100  2014     12   24206  26476     1.093778   5719   \n",
       "2  5005072170100  2015      1   20449  26381     1.290088   2196   \n",
       "3  5005072170100  2015      2    6820  10390     1.523460    583   \n",
       "4  5005072170100  2015      3    7349   7005     0.953191    122   \n",
       "\n",
       "   PercentWater  DaysOn              _LastUpdate  \n",
       "0      1.079219      14  2016-04-06 17:20:05.757  \n",
       "1      0.236264      31  2016-04-06 17:20:05.757  \n",
       "2      0.107389      31  2016-04-06 17:20:05.757  \n",
       "3      0.085484      28  2016-04-06 17:20:05.757  \n",
       "4      0.016601      13  2016-06-16 14:07:33.203  "
      ]
     },
     "execution_count": 92,
     "metadata": {},
     "output_type": "execute_result"
    }
   ],
   "source": [
    "import pandas as pd\n",
    "import numpy as np\n",
    "import torch\n",
    "import torch.nn as nn\n",
    "import torch.nn.functional as F\n",
    "import torch.optim as optim\n",
    "from torch.utils.data import TensorDataset, DataLoader\n",
    "\n",
    "\n",
    "df = pd.read_csv('./data/production.csv')\n",
    "df.head()"
   ]
  },
  {
   "cell_type": "code",
   "execution_count": 93,
   "metadata": {
    "slideshow": {
     "slide_type": "subslide"
    }
   },
   "outputs": [
    {
     "data": {
      "text/html": [
       "<div>\n",
       "<style scoped>\n",
       "    .dataframe tbody tr th:only-of-type {\n",
       "        vertical-align: middle;\n",
       "    }\n",
       "\n",
       "    .dataframe tbody tr th {\n",
       "        vertical-align: top;\n",
       "    }\n",
       "\n",
       "    .dataframe thead th {\n",
       "        text-align: right;\n",
       "    }\n",
       "</style>\n",
       "<table border=\"1\" class=\"dataframe\">\n",
       "  <thead>\n",
       "    <tr style=\"text-align: right;\">\n",
       "      <th></th>\n",
       "      <th></th>\n",
       "      <th>Liquid</th>\n",
       "      <th>Gas</th>\n",
       "      <th>Water</th>\n",
       "    </tr>\n",
       "    <tr>\n",
       "      <th>API</th>\n",
       "      <th></th>\n",
       "      <th></th>\n",
       "      <th></th>\n",
       "      <th></th>\n",
       "    </tr>\n",
       "  </thead>\n",
       "  <tbody>\n",
       "    <tr>\n",
       "      <th rowspan=\"5\" valign=\"top\">5005072170100</th>\n",
       "      <th>0</th>\n",
       "      <td>9783</td>\n",
       "      <td>11470</td>\n",
       "      <td>10558</td>\n",
       "    </tr>\n",
       "    <tr>\n",
       "      <th>1</th>\n",
       "      <td>24206</td>\n",
       "      <td>26476</td>\n",
       "      <td>5719</td>\n",
       "    </tr>\n",
       "    <tr>\n",
       "      <th>2</th>\n",
       "      <td>20449</td>\n",
       "      <td>26381</td>\n",
       "      <td>2196</td>\n",
       "    </tr>\n",
       "    <tr>\n",
       "      <th>3</th>\n",
       "      <td>6820</td>\n",
       "      <td>10390</td>\n",
       "      <td>583</td>\n",
       "    </tr>\n",
       "    <tr>\n",
       "      <th>4</th>\n",
       "      <td>7349</td>\n",
       "      <td>7005</td>\n",
       "      <td>122</td>\n",
       "    </tr>\n",
       "  </tbody>\n",
       "</table>\n",
       "</div>"
      ],
      "text/plain": [
       "                 Liquid    Gas  Water\n",
       "API                                  \n",
       "5005072170100 0    9783  11470  10558\n",
       "              1   24206  26476   5719\n",
       "              2   20449  26381   2196\n",
       "              3    6820  10390    583\n",
       "              4    7349   7005    122"
      ]
     },
     "execution_count": 93,
     "metadata": {},
     "output_type": "execute_result"
    }
   ],
   "source": [
    "# Подготовка данных по добыче\n",
    "resources = df.groupby('API')[['Liquid', \"Gas\", \"Water\"]].apply(lambda df_: df_.reset_index(drop=True))\n",
    "resources.head()"
   ]
  },
  {
   "cell_type": "code",
   "execution_count": 94,
   "metadata": {
    "slideshow": {
     "slide_type": "subslide"
    }
   },
   "outputs": [
    {
     "data": {
      "text/html": [
       "<div>\n",
       "<style scoped>\n",
       "    .dataframe tbody tr th:only-of-type {\n",
       "        vertical-align: middle;\n",
       "    }\n",
       "\n",
       "    .dataframe tbody tr th {\n",
       "        vertical-align: top;\n",
       "    }\n",
       "\n",
       "    .dataframe thead th {\n",
       "        text-align: right;\n",
       "    }\n",
       "</style>\n",
       "<table border=\"1\" class=\"dataframe\">\n",
       "  <thead>\n",
       "    <tr style=\"text-align: right;\">\n",
       "      <th></th>\n",
       "      <th></th>\n",
       "      <th>Liquid</th>\n",
       "      <th>Gas</th>\n",
       "      <th>Water</th>\n",
       "    </tr>\n",
       "    <tr>\n",
       "      <th>API</th>\n",
       "      <th></th>\n",
       "      <th></th>\n",
       "      <th></th>\n",
       "      <th></th>\n",
       "    </tr>\n",
       "  </thead>\n",
       "  <tbody>\n",
       "    <tr>\n",
       "      <th rowspan=\"5\" valign=\"top\">5005072170100</th>\n",
       "      <th>0</th>\n",
       "      <td>0.231031</td>\n",
       "      <td>0.104021</td>\n",
       "      <td>0.055490</td>\n",
       "    </tr>\n",
       "    <tr>\n",
       "      <th>1</th>\n",
       "      <td>0.571638</td>\n",
       "      <td>0.240110</td>\n",
       "      <td>0.030058</td>\n",
       "    </tr>\n",
       "    <tr>\n",
       "      <th>2</th>\n",
       "      <td>0.482914</td>\n",
       "      <td>0.239249</td>\n",
       "      <td>0.011542</td>\n",
       "    </tr>\n",
       "    <tr>\n",
       "      <th>3</th>\n",
       "      <td>0.161058</td>\n",
       "      <td>0.094227</td>\n",
       "      <td>0.003064</td>\n",
       "    </tr>\n",
       "    <tr>\n",
       "      <th>4</th>\n",
       "      <td>0.173551</td>\n",
       "      <td>0.063528</td>\n",
       "      <td>0.000641</td>\n",
       "    </tr>\n",
       "  </tbody>\n",
       "</table>\n",
       "</div>"
      ],
      "text/plain": [
       "                   Liquid       Gas     Water\n",
       "API                                          \n",
       "5005072170100 0  0.231031  0.104021  0.055490\n",
       "              1  0.571638  0.240110  0.030058\n",
       "              2  0.482914  0.239249  0.011542\n",
       "              3  0.161058  0.094227  0.003064\n",
       "              4  0.173551  0.063528  0.000641"
      ]
     },
     "execution_count": 94,
     "metadata": {},
     "output_type": "execute_result"
    }
   ],
   "source": [
    "resources[\"Liquid\"] /= resources[\"Liquid\"].max()\n",
    "resources[\"Gas\"] /= resources[\"Gas\"].max()\n",
    "resources[\"Water\"] /= resources[\"Water\"].max()\n",
    "resources.head()"
   ]
  },
  {
   "cell_type": "code",
   "execution_count": 95,
   "metadata": {},
   "outputs": [
    {
     "data": {
      "text/plain": [
       "Liquid    0.231031\n",
       "Gas       0.104021\n",
       "Water     0.055490\n",
       "Name: (5005072170100, 0), dtype: float64"
      ]
     },
     "execution_count": 95,
     "metadata": {},
     "output_type": "execute_result"
    }
   ],
   "source": [
    "resources.iloc[0]"
   ]
  },
  {
   "cell_type": "code",
   "execution_count": 96,
   "metadata": {},
   "outputs": [
    {
     "data": {
      "text/plain": [
       "(50, 24, 3)"
      ]
     },
     "execution_count": 96,
     "metadata": {},
     "output_type": "execute_result"
    }
   ],
   "source": [
    "data = resources.to_numpy()\n",
    "data = data.reshape((50, 24, 3))\n",
    "data.shape"
   ]
  },
  {
   "cell_type": "code",
   "execution_count": 97,
   "metadata": {},
   "outputs": [
    {
     "data": {
      "text/plain": [
       "((40, 24, 3), (10, 24, 3))"
      ]
     },
     "execution_count": 97,
     "metadata": {},
     "output_type": "execute_result"
    }
   ],
   "source": [
    "train = data[:40]\n",
    "test = data[40:]\n",
    "train.shape, test.shape"
   ]
  },
  {
   "cell_type": "code",
   "execution_count": 98,
   "metadata": {},
   "outputs": [
    {
     "name": "stdout",
     "output_type": "stream",
     "text": [
      "(440, 12, 3) (440, 12, 3)\n"
     ]
    }
   ],
   "source": [
    "x_data = [train[:, i:i+12] for i in range(11)]\n",
    "y_data = [train[:, i+1:i+13] for i in range(11)]\n",
    "\n",
    "x_data = np.concatenate(x_data, axis=0)\n",
    "y_data = np.concatenate(y_data, axis=0)\n",
    "print(x_data.shape, y_data.shape)"
   ]
  },
  {
   "cell_type": "code",
   "execution_count": 99,
   "metadata": {
    "slideshow": {
     "slide_type": "subslide"
    }
   },
   "outputs": [],
   "source": [
    "tensor_x = torch.Tensor(x_data) # transform to torch tensor\n",
    "tensor_y = torch.Tensor(y_data)\n",
    "\n",
    "oil_dataset = TensorDataset(tensor_x,tensor_y) # create your datset\n",
    "oil_dataloader = DataLoader(oil_dataset, batch_size=16) # create your dataloader"
   ]
  },
  {
   "cell_type": "code",
   "execution_count": 100,
   "metadata": {},
   "outputs": [
    {
     "data": {
      "text/plain": [
       "(torch.Size([16, 12, 3]), torch.Size([16, 12, 3]))"
      ]
     },
     "execution_count": 100,
     "metadata": {},
     "output_type": "execute_result"
    }
   ],
   "source": [
    "for x_t, y_t in oil_dataloader:\n",
    "    break\n",
    "x_t.shape, y_t.shape"
   ]
  },
  {
   "cell_type": "code",
   "execution_count": 101,
   "metadata": {
    "slideshow": {
     "slide_type": "subslide"
    }
   },
   "outputs": [],
   "source": [
    "class OilModel(nn.Module):\n",
    "    def __init__(self, timesteps=12, units=32):\n",
    "        super().__init__()\n",
    "        self.lstm1 = nn.LSTM(3, units, 2, batch_first=True)\n",
    "        self.dense = nn.Linear(units, 3)\n",
    "        self.relu = nn.ReLU()\n",
    "        \n",
    "    def forward(self, x):\n",
    "        h, _ = self.lstm1(x)\n",
    "        outs = []\n",
    "        for i in range(h.shape[0]):\n",
    "            outs.append(self.relu(self.dense(h[i])))\n",
    "        #print(outs)\n",
    "        out = torch.stack(outs, dim=0)\n",
    "        return out"
   ]
  },
  {
   "cell_type": "code",
   "execution_count": 102,
   "metadata": {
    "slideshow": {
     "slide_type": "subslide"
    }
   },
   "outputs": [],
   "source": [
    "model = OilModel()\n",
    "opt = optim.Adam(model.parameters())\n",
    "criterion = nn.MSELoss()"
   ]
  },
  {
   "cell_type": "code",
   "execution_count": 109,
   "metadata": {
    "slideshow": {
     "slide_type": "subslide"
    }
   },
   "outputs": [
    {
     "name": "stdout",
     "output_type": "stream",
     "text": [
      "[Epoch:  1] loss: 0.034\n",
      "torch.Size([8, 12, 3])\n",
      "[Epoch: 11] loss: 0.034\n",
      "torch.Size([8, 12, 3])\n",
      "[Epoch: 21] loss: 0.033\n",
      "torch.Size([8, 12, 3])\n",
      "[Epoch: 31] loss: 0.033\n",
      "torch.Size([8, 12, 3])\n",
      "[Epoch: 41] loss: 0.033\n",
      "torch.Size([8, 12, 3])\n",
      "[Epoch: 51] loss: 0.032\n",
      "torch.Size([8, 12, 3])\n",
      "[Epoch: 61] loss: 0.032\n",
      "torch.Size([8, 12, 3])\n",
      "[Epoch: 71] loss: 0.032\n",
      "torch.Size([8, 12, 3])\n",
      "[Epoch: 81] loss: 0.031\n",
      "torch.Size([8, 12, 3])\n",
      "[Epoch: 91] loss: 0.031\n",
      "torch.Size([8, 12, 3])\n",
      "[Epoch: 101] loss: 0.031\n",
      "torch.Size([8, 12, 3])\n",
      "[Epoch: 111] loss: 0.031\n",
      "torch.Size([8, 12, 3])\n",
      "[Epoch: 121] loss: 0.031\n",
      "torch.Size([8, 12, 3])\n",
      "[Epoch: 131] loss: 0.030\n",
      "torch.Size([8, 12, 3])\n",
      "[Epoch: 141] loss: 0.030\n",
      "torch.Size([8, 12, 3])\n",
      "[Epoch: 151] loss: 0.029\n",
      "torch.Size([8, 12, 3])\n",
      "[Epoch: 161] loss: 0.029\n",
      "torch.Size([8, 12, 3])\n",
      "[Epoch: 171] loss: 0.029\n",
      "torch.Size([8, 12, 3])\n",
      "[Epoch: 181] loss: 0.029\n",
      "torch.Size([8, 12, 3])\n",
      "[Epoch: 191] loss: 0.028\n",
      "torch.Size([8, 12, 3])\n",
      "[Epoch: 201] loss: 0.029\n",
      "torch.Size([8, 12, 3])\n",
      "[Epoch: 211] loss: 0.028\n",
      "torch.Size([8, 12, 3])\n",
      "[Epoch: 221] loss: 0.028\n",
      "torch.Size([8, 12, 3])\n",
      "[Epoch: 231] loss: 0.028\n",
      "torch.Size([8, 12, 3])\n",
      "[Epoch: 241] loss: 0.028\n",
      "torch.Size([8, 12, 3])\n",
      "[Epoch: 251] loss: 0.028\n",
      "torch.Size([8, 12, 3])\n",
      "[Epoch: 261] loss: 0.027\n",
      "torch.Size([8, 12, 3])\n",
      "[Epoch: 271] loss: 0.027\n",
      "torch.Size([8, 12, 3])\n",
      "[Epoch: 281] loss: 0.027\n",
      "torch.Size([8, 12, 3])\n",
      "[Epoch: 291] loss: 0.027\n",
      "torch.Size([8, 12, 3])\n",
      "[Epoch: 301] loss: 0.026\n",
      "torch.Size([8, 12, 3])\n",
      "[Epoch: 311] loss: 0.026\n",
      "torch.Size([8, 12, 3])\n",
      "[Epoch: 321] loss: 0.026\n",
      "torch.Size([8, 12, 3])\n",
      "[Epoch: 331] loss: 0.026\n",
      "torch.Size([8, 12, 3])\n",
      "[Epoch: 341] loss: 0.025\n",
      "torch.Size([8, 12, 3])\n",
      "[Epoch: 351] loss: 0.025\n",
      "torch.Size([8, 12, 3])\n",
      "[Epoch: 361] loss: 0.025\n",
      "torch.Size([8, 12, 3])\n",
      "[Epoch: 371] loss: 0.025\n",
      "torch.Size([8, 12, 3])\n",
      "[Epoch: 381] loss: 0.025\n",
      "torch.Size([8, 12, 3])\n",
      "[Epoch: 391] loss: 0.025\n",
      "torch.Size([8, 12, 3])\n",
      "[Epoch: 401] loss: 0.024\n",
      "torch.Size([8, 12, 3])\n",
      "[Epoch: 411] loss: 0.024\n",
      "torch.Size([8, 12, 3])\n",
      "[Epoch: 421] loss: 0.024\n",
      "torch.Size([8, 12, 3])\n",
      "[Epoch: 431] loss: 0.024\n",
      "torch.Size([8, 12, 3])\n",
      "[Epoch: 441] loss: 0.024\n",
      "torch.Size([8, 12, 3])\n",
      "[Epoch: 451] loss: 0.024\n",
      "torch.Size([8, 12, 3])\n",
      "[Epoch: 461] loss: 0.024\n",
      "torch.Size([8, 12, 3])\n",
      "[Epoch: 471] loss: 0.024\n",
      "torch.Size([8, 12, 3])\n",
      "[Epoch: 481] loss: 0.023\n",
      "torch.Size([8, 12, 3])\n",
      "[Epoch: 491] loss: 0.023\n",
      "torch.Size([8, 12, 3])\n",
      "[Epoch: 501] loss: 0.023\n",
      "torch.Size([8, 12, 3])\n",
      "[Epoch: 511] loss: 0.023\n",
      "torch.Size([8, 12, 3])\n",
      "[Epoch: 521] loss: 0.023\n",
      "torch.Size([8, 12, 3])\n",
      "[Epoch: 531] loss: 0.022\n",
      "torch.Size([8, 12, 3])\n",
      "[Epoch: 541] loss: 0.023\n",
      "torch.Size([8, 12, 3])\n",
      "[Epoch: 551] loss: 0.022\n",
      "torch.Size([8, 12, 3])\n",
      "[Epoch: 561] loss: 0.022\n",
      "torch.Size([8, 12, 3])\n",
      "[Epoch: 571] loss: 0.022\n",
      "torch.Size([8, 12, 3])\n",
      "[Epoch: 581] loss: 0.022\n",
      "torch.Size([8, 12, 3])\n",
      "[Epoch: 591] loss: 0.022\n",
      "torch.Size([8, 12, 3])\n",
      "[Epoch: 601] loss: 0.022\n",
      "torch.Size([8, 12, 3])\n",
      "[Epoch: 611] loss: 0.022\n",
      "torch.Size([8, 12, 3])\n",
      "[Epoch: 621] loss: 0.021\n",
      "torch.Size([8, 12, 3])\n",
      "[Epoch: 631] loss: 0.021\n",
      "torch.Size([8, 12, 3])\n",
      "[Epoch: 641] loss: 0.021\n",
      "torch.Size([8, 12, 3])\n",
      "[Epoch: 651] loss: 0.021\n",
      "torch.Size([8, 12, 3])\n",
      "[Epoch: 661] loss: 0.021\n",
      "torch.Size([8, 12, 3])\n",
      "[Epoch: 671] loss: 0.021\n",
      "torch.Size([8, 12, 3])\n",
      "[Epoch: 681] loss: 0.021\n",
      "torch.Size([8, 12, 3])\n",
      "[Epoch: 691] loss: 0.021\n",
      "torch.Size([8, 12, 3])\n",
      "[Epoch: 701] loss: 0.020\n",
      "torch.Size([8, 12, 3])\n",
      "[Epoch: 711] loss: 0.020\n",
      "torch.Size([8, 12, 3])\n",
      "[Epoch: 721] loss: 0.020\n",
      "torch.Size([8, 12, 3])\n",
      "[Epoch: 731] loss: 0.020\n",
      "torch.Size([8, 12, 3])\n",
      "[Epoch: 741] loss: 0.020\n",
      "torch.Size([8, 12, 3])\n",
      "[Epoch: 751] loss: 0.020\n",
      "torch.Size([8, 12, 3])\n",
      "[Epoch: 761] loss: 0.020\n",
      "torch.Size([8, 12, 3])\n",
      "[Epoch: 771] loss: 0.020\n",
      "torch.Size([8, 12, 3])\n",
      "[Epoch: 781] loss: 0.020\n",
      "torch.Size([8, 12, 3])\n",
      "[Epoch: 791] loss: 0.020\n",
      "torch.Size([8, 12, 3])\n",
      "[Epoch: 801] loss: 0.020\n",
      "torch.Size([8, 12, 3])\n",
      "[Epoch: 811] loss: 0.019\n",
      "torch.Size([8, 12, 3])\n",
      "[Epoch: 821] loss: 0.019\n",
      "torch.Size([8, 12, 3])\n",
      "[Epoch: 831] loss: 0.019\n",
      "torch.Size([8, 12, 3])\n",
      "[Epoch: 841] loss: 0.019\n",
      "torch.Size([8, 12, 3])\n",
      "[Epoch: 851] loss: 0.019\n",
      "torch.Size([8, 12, 3])\n",
      "[Epoch: 861] loss: 0.019\n",
      "torch.Size([8, 12, 3])\n",
      "[Epoch: 871] loss: 0.019\n",
      "torch.Size([8, 12, 3])\n",
      "[Epoch: 881] loss: 0.019\n",
      "torch.Size([8, 12, 3])\n",
      "[Epoch: 891] loss: 0.019\n",
      "torch.Size([8, 12, 3])\n",
      "[Epoch: 901] loss: 0.018\n",
      "torch.Size([8, 12, 3])\n",
      "[Epoch: 911] loss: 0.018\n",
      "torch.Size([8, 12, 3])\n",
      "[Epoch: 921] loss: 0.018\n",
      "torch.Size([8, 12, 3])\n",
      "[Epoch: 931] loss: 0.018\n",
      "torch.Size([8, 12, 3])\n",
      "[Epoch: 941] loss: 0.018\n",
      "torch.Size([8, 12, 3])\n",
      "[Epoch: 951] loss: 0.018\n",
      "torch.Size([8, 12, 3])\n",
      "[Epoch: 961] loss: 0.018\n",
      "torch.Size([8, 12, 3])\n",
      "[Epoch: 971] loss: 0.018\n",
      "torch.Size([8, 12, 3])\n",
      "[Epoch: 981] loss: 0.018\n",
      "torch.Size([8, 12, 3])\n",
      "[Epoch: 991] loss: 0.018\n",
      "torch.Size([8, 12, 3])\n",
      "Finished Training\n"
     ]
    }
   ],
   "source": [
    "NUM_EPOCHS = 1000\n",
    "\n",
    "for epoch in range(NUM_EPOCHS):  # loop over the dataset multiple times\n",
    "\n",
    "    running_loss = 0.0\n",
    "    num = 0\n",
    "    for x_t, y_t in oil_dataloader:\n",
    "        # zero the parameter gradients\n",
    "        opt.zero_grad()\n",
    "\n",
    "        # forward + backward + optimize\n",
    "        outputs = model(x_t)\n",
    "        loss = criterion(outputs, y_t)\n",
    "        loss.backward()\n",
    "        opt.step()\n",
    "\n",
    "        # print statistics\n",
    "        running_loss += loss.item()\n",
    "        num += 1\n",
    "        \n",
    "    if epoch % 10 == 0:\n",
    "        print(f'[Epoch: {epoch + 1:2d}] loss: {running_loss:.3f}')\n",
    "        print(outputs.shape)\n",
    "print('Finished Training')"
   ]
  },
  {
   "cell_type": "code",
   "execution_count": null,
   "metadata": {},
   "outputs": [],
   "source": []
  },
  {
   "cell_type": "code",
   "execution_count": 110,
   "metadata": {
    "slideshow": {
     "slide_type": "subslide"
    }
   },
   "outputs": [
    {
     "name": "stdout",
     "output_type": "stream",
     "text": [
      "(10, 12, 3)\n",
      "torch.Size([10, 12, 3])\n",
      "torch.Size([10, 12, 3])\n",
      "torch.Size([10, 12, 3])\n",
      "torch.Size([10, 12, 3])\n",
      "torch.Size([10, 12, 3])\n",
      "torch.Size([10, 12, 3])\n",
      "torch.Size([10, 12, 3])\n",
      "torch.Size([10, 12, 3])\n",
      "torch.Size([10, 12, 3])\n",
      "torch.Size([10, 12, 3])\n",
      "torch.Size([10, 12, 3])\n",
      "torch.Size([10, 12, 3])\n"
     ]
    },
    {
     "data": {
      "text/plain": [
       "array([[[4.52034473e-02, 2.41833180e-01, 0.00000000e+00],\n",
       "        [2.93230582e-02, 2.86181897e-01, 0.00000000e+00],\n",
       "        [5.28873354e-02, 2.74009526e-01, 0.00000000e+00],\n",
       "        [4.12218422e-02, 1.86668560e-01, 0.00000000e+00],\n",
       "        [7.72136450e-02, 3.00048828e-01, 0.00000000e+00],\n",
       "        [6.11167550e-02, 3.99062365e-01, 7.52562517e-03],\n",
       "        [1.10639371e-01, 4.84422892e-01, 8.41401983e-04],\n",
       "        [1.49251670e-01, 4.53808457e-01, 0.00000000e+00],\n",
       "        [8.44201297e-02, 4.03852493e-01, 0.00000000e+00],\n",
       "        [4.47232649e-02, 4.53244656e-01, 0.00000000e+00],\n",
       "        [1.81473885e-02, 3.35109472e-01, 0.00000000e+00],\n",
       "        [4.95689437e-02, 3.77356559e-01, 0.00000000e+00]],\n",
       "\n",
       "       [[3.83487754e-02, 8.15557837e-02, 0.00000000e+00],\n",
       "        [2.33178325e-02, 8.70682448e-02, 0.00000000e+00],\n",
       "        [1.88533086e-02, 1.00822113e-01, 1.70792872e-03],\n",
       "        [2.45858971e-02, 1.06051788e-01, 2.76532071e-03],\n",
       "        [2.30636355e-02, 9.92126912e-02, 1.92509731e-03],\n",
       "        [2.19336171e-02, 9.44011435e-02, 1.54378964e-03],\n",
       "        [2.11346690e-02, 8.82756263e-02, 5.04654367e-04],\n",
       "        [2.15837788e-02, 8.21702480e-02, 0.00000000e+00],\n",
       "        [2.34705601e-02, 7.71863759e-02, 0.00000000e+00],\n",
       "        [3.14984396e-02, 8.13157558e-02, 0.00000000e+00],\n",
       "        [4.31523398e-02, 8.77533332e-02, 0.00000000e+00],\n",
       "        [5.58046103e-02, 9.43948925e-02, 0.00000000e+00]],\n",
       "\n",
       "       [[1.03134617e-01, 3.37934464e-01, 0.00000000e+00],\n",
       "        [1.12560257e-01, 2.60189414e-01, 0.00000000e+00],\n",
       "        [1.24112204e-01, 2.70261645e-01, 0.00000000e+00],\n",
       "        [7.63991550e-02, 3.99847895e-01, 4.01695678e-03],\n",
       "        [1.33691370e-01, 4.75961715e-01, 0.00000000e+00],\n",
       "        [1.07392251e-01, 4.21863496e-01, 0.00000000e+00],\n",
       "        [1.11333318e-01, 4.03982967e-01, 0.00000000e+00],\n",
       "        [0.00000000e+00, 2.41904840e-01, 0.00000000e+00],\n",
       "        [2.48940531e-02, 3.34216654e-01, 0.00000000e+00],\n",
       "        [1.54212136e-02, 3.45937818e-01, 0.00000000e+00],\n",
       "        [2.60956604e-02, 2.70945728e-01, 0.00000000e+00],\n",
       "        [4.54301536e-02, 2.72116512e-01, 0.00000000e+00]],\n",
       "\n",
       "       [[4.08060923e-02, 1.52659528e-02, 5.86151658e-03],\n",
       "        [6.16597086e-02, 2.92876754e-02, 7.37698888e-03],\n",
       "        [6.72220960e-02, 3.11211497e-02, 8.92559066e-03],\n",
       "        [4.80979085e-02, 1.78172663e-02, 6.04925072e-03],\n",
       "        [3.92085984e-02, 1.52852908e-02, 4.20160918e-03],\n",
       "        [5.00867367e-02, 2.32210197e-02, 5.72616700e-03],\n",
       "        [4.66544777e-02, 2.10838076e-02, 4.81799431e-03],\n",
       "        [4.34083492e-02, 2.48706024e-02, 3.42120090e-03],\n",
       "        [4.10920158e-02, 2.75544375e-02, 1.60787674e-03],\n",
       "        [3.25548351e-02, 2.53545530e-02, 0.00000000e+00],\n",
       "        [2.67107468e-02, 2.40755454e-02, 0.00000000e+00],\n",
       "        [2.78763007e-02, 2.29015090e-02, 0.00000000e+00]],\n",
       "\n",
       "       [[1.16610318e-01, 3.04580927e-02, 6.52464256e-02],\n",
       "        [1.30761802e-01, 6.03356361e-02, 6.43088371e-02],\n",
       "        [1.49579749e-01, 8.16154182e-02, 6.13238625e-02],\n",
       "        [1.87743887e-01, 1.13406673e-01, 6.52909279e-02],\n",
       "        [2.33990446e-01, 1.44176200e-01, 6.76746592e-02],\n",
       "        [2.69421220e-01, 1.58919126e-01, 7.03351721e-02],\n",
       "        [2.45644599e-01, 1.49179459e-01, 6.15904704e-02],\n",
       "        [1.79952696e-01, 1.08060479e-01, 4.76104096e-02],\n",
       "        [9.20217633e-02, 6.64603859e-02, 4.90690656e-02],\n",
       "        [1.32175446e-01, 8.49745721e-02, 8.84629115e-02],\n",
       "        [1.40674323e-01, 7.84965903e-02, 7.29491785e-02],\n",
       "        [1.09869793e-01, 8.04517269e-02, 5.11381589e-02]],\n",
       "\n",
       "       [[9.72361639e-02, 5.27435429e-02, 4.35251631e-02],\n",
       "        [7.57572874e-02, 3.73132043e-02, 3.44664268e-02],\n",
       "        [6.35112301e-02, 1.81682426e-02, 3.16948667e-02],\n",
       "        [5.88471815e-02, 1.76182818e-02, 3.20064798e-02],\n",
       "        [5.55882305e-02, 1.85411777e-02, 3.35267670e-02],\n",
       "        [5.84070012e-02, 2.26897076e-02, 3.52561586e-02],\n",
       "        [6.76389188e-02, 2.90993322e-02, 3.69035974e-02],\n",
       "        [7.80675858e-02, 3.92958522e-02, 3.76534909e-02],\n",
       "        [8.01447704e-02, 4.50503826e-02, 3.56714800e-02],\n",
       "        [7.56176412e-02, 4.50158045e-02, 3.24445777e-02],\n",
       "        [6.90465942e-02, 4.19437960e-02, 2.99503300e-02],\n",
       "        [6.25394508e-02, 3.72752436e-02, 2.89634317e-02]],\n",
       "\n",
       "       [[1.97174326e-01, 3.31360817e-01, 1.06607519e-01],\n",
       "        [0.00000000e+00, 1.09489344e-01, 4.51357663e-02],\n",
       "        [2.68263668e-01, 3.05521250e-01, 1.00677647e-01],\n",
       "        [0.00000000e+00, 1.03663653e-02, 2.22975258e-02],\n",
       "        [1.91666991e-01, 2.72116601e-01, 4.12343293e-02],\n",
       "        [6.10911995e-02, 1.40555382e-01, 3.60657722e-02],\n",
       "        [1.09467961e-01, 2.04296336e-01, 4.28518318e-02],\n",
       "        [2.96133626e-02, 1.16044737e-01, 3.11626848e-02],\n",
       "        [6.41428381e-02, 1.54188275e-01, 4.08198498e-02],\n",
       "        [0.00000000e+00, 6.55336827e-02, 2.26807501e-02],\n",
       "        [6.98730573e-02, 1.15448460e-01, 4.29076925e-02],\n",
       "        [0.00000000e+00, 3.81126851e-02, 2.32918430e-02]],\n",
       "\n",
       "       [[1.42622218e-01, 0.00000000e+00, 1.02510937e-01],\n",
       "        [1.70397982e-01, 0.00000000e+00, 1.03731416e-01],\n",
       "        [1.17222548e-01, 4.39932719e-02, 8.29327404e-02],\n",
       "        [1.41829938e-01, 1.12572886e-01, 8.79842862e-02],\n",
       "        [1.54867411e-01, 1.31026641e-01, 8.16404223e-02],\n",
       "        [1.78520575e-01, 1.29007876e-01, 7.82281384e-02],\n",
       "        [1.47551104e-01, 1.09819047e-01, 6.49069324e-02],\n",
       "        [1.01730198e-01, 9.01496634e-02, 5.99230714e-02],\n",
       "        [7.51787052e-02, 7.92682320e-02, 6.62934259e-02],\n",
       "        [1.21728897e-01, 1.02300540e-01, 7.30044171e-02],\n",
       "        [1.26978919e-01, 1.12661734e-01, 5.75125776e-02],\n",
       "        [1.25484481e-01, 9.49590281e-02, 5.11375479e-02]],\n",
       "\n",
       "       [[5.37651479e-02, 1.27274051e-01, 1.55498013e-02],\n",
       "        [4.47980911e-02, 1.24038927e-01, 1.53974053e-02],\n",
       "        [5.79763576e-03, 6.58852756e-02, 3.56702833e-03],\n",
       "        [2.46743113e-02, 8.14595744e-02, 1.25232693e-02],\n",
       "        [1.69551149e-02, 7.63704032e-02, 1.32660270e-02],\n",
       "        [1.83297470e-02, 6.38873875e-02, 1.40623283e-02],\n",
       "        [1.14430878e-02, 5.40252104e-02, 1.09837018e-02],\n",
       "        [3.00766528e-03, 6.39723614e-02, 1.24482661e-02],\n",
       "        [0.00000000e+00, 5.97842783e-02, 9.96071473e-03],\n",
       "        [0.00000000e+00, 6.16195053e-02, 5.97755844e-03],\n",
       "        [0.00000000e+00, 5.99694103e-02, 1.58286467e-03],\n",
       "        [0.00000000e+00, 6.62601069e-02, 3.52916308e-04]],\n",
       "\n",
       "       [[7.38520920e-02, 1.60457343e-02, 1.28724966e-02],\n",
       "        [7.35611767e-02, 2.68768966e-02, 1.17841102e-02],\n",
       "        [5.99350482e-02, 2.26688441e-02, 9.39803757e-03],\n",
       "        [5.69552854e-02, 2.63668951e-02, 9.34822485e-03],\n",
       "        [5.02907336e-02, 2.15383209e-02, 7.48638576e-03],\n",
       "        [4.29072306e-02, 2.21156944e-02, 5.93717257e-03],\n",
       "        [4.18045744e-02, 2.44655591e-02, 6.22083852e-03],\n",
       "        [5.02867848e-02, 2.97569036e-02, 8.10884871e-03],\n",
       "        [4.86107916e-02, 3.03755291e-02, 7.93727860e-03],\n",
       "        [4.49565277e-02, 3.29568610e-02, 7.35211698e-03],\n",
       "        [4.25195619e-02, 3.49778496e-02, 7.10247597e-03],\n",
       "        [3.98735031e-02, 3.38889360e-02, 6.68981439e-03]]])"
      ]
     },
     "execution_count": 110,
     "metadata": {},
     "output_type": "execute_result"
    }
   ],
   "source": [
    "x_tst = test[:, :12]\n",
    "predicts = np.zeros((x_tst.shape[0], 0, x_tst.shape[2]))\n",
    "print(x_tst.shape)\n",
    "\n",
    "for i in range(12):\n",
    "    x = np.concatenate((x_tst[:, i:], predicts), axis=1)\n",
    "    x_t = torch.from_numpy(x).float()\n",
    "    print(x_t.shape)\n",
    "    pred = model(x_t).detach().numpy()\n",
    "    last_pred = pred[:, -1:]  # Нас интересует только последний месяц\n",
    "    predicts = np.concatenate((predicts, last_pred), axis=1)\n",
    "predicts"
   ]
  },
  {
   "cell_type": "code",
   "execution_count": 111,
   "metadata": {
    "slideshow": {
     "slide_type": "subslide"
    }
   },
   "outputs": [
    {
     "data": {
      "image/png": "[encoded data removed]",
      "text/plain": [
       "<Figure size 1000x600 with 4 Axes>"
      ]
     },
     "metadata": {},
     "output_type": "display_data"
    }
   ],
   "source": [
    "import matplotlib.pyplot as plt\n",
    "\n",
    "plt.figure(figsize=(10, 6))\n",
    "for iapi in range(4):\n",
    "    plt.subplot(2, 2, iapi+1)\n",
    "    plt.plot(np.arange(x_tst.shape[1]), x_tst[iapi, :, 0], label='Actual')\n",
    "    plt.plot(np.arange(predicts.shape[1])+x_tst.shape[1], predicts[iapi, :, 0], label='Prediction')\n",
    "    plt.legend()\n",
    "plt.show()"
   ]
  },
  {
   "cell_type": "markdown",
   "metadata": {
    "slideshow": {
     "slide_type": "slide"
    }
   },
   "source": [
    "# Задание\n",
    "2. Для обучения на нефтяных скважин добавьте во входные данные информацию со столбцов Gas, Water (т.е. размер x_data будет (440, 12, 3)) и обучите новую модель. Выход содержит Liquid, Gas и Water (для дальнейшего предсказания). Графики с результатами только для Liquid."
   ]
  },
  {
   "cell_type": "code",
   "execution_count": null,
   "metadata": {},
   "outputs": [],
   "source": []
  }
 ],
 "metadata": {
  "celltoolbar": "Слайд-шоу",
  "kernelspec": {
   "display_name": "Python 3 (ipykernel)",
   "language": "python",
   "name": "python3"
  },
  "language_info": {
   "codemirror_mode": {
    "name": "ipython",
    "version": 3
   },
   "file_extension": ".py",
   "mimetype": "text/x-python",
   "name": "python",
   "nbconvert_exporter": "python",
   "pygments_lexer": "ipython3",
   "version": "3.11.5"
  }
 },
 "nbformat": 4,
 "nbformat_minor": 4
}
